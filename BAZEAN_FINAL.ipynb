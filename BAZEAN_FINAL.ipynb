{
 "cells": [
  {
   "cell_type": "markdown",
   "metadata": {},
   "source": [
    "## Bazean Case Study: Analyzing Production Results for Oil Wells in the Bakken, North Dakota\n",
    "\n",
    "### Thatcher Thornberry, University of Texas, Petroleum Engineering, Class of 2021\n",
    "\n",
    "#### Contact: Thatch@utexas.edu\n",
    "\n",
    "### Executive Summary: \n",
    "From historical production data, I needed to predict which companies are going to drill the best wells. This will aid in valuing these companies and finding the best point of investment. This production data contains some bad datapoints that need to be addressed. My method of addressing these was to remove production rates of less than 10bbls, and to ignore completion and spud dates from the wells file. I also adjusted the data in order to perform decline curve analysis\n",
    "In regards to GOR, it was observed that Abraxas maintained the highest Gas to Oil Ration while Petro-Hunt held the lowest standing. In general, from 2010 to 2018, the GOR for all companies rose. \n",
    "From wells that began production in 2015, Enerplus Resources stood at the forefront of productivity and EUR with an Average Productivity Rating of 50.07 and Total EUR of 3.99e6 bbls. Crescent Point Energy held the lowest Average Productivity Rating of 13.00 and an EUR of 3.86e5 bbls.\n",
    "\n",
    "Visualisation of these results can be found within the document.\n",
    "\n",
    "#### Objective\n",
    "\n",
    "Determine and summarize historical GOR over itme by the year put on production for each operator\n",
    "\n",
    "Determine and summarize oil EUR per well that started producing in 2015.\n",
    "\n",
    "Based on their history, which company or companies are likely to drill the most productive wells going forward?\n"
   ]
  },
  {
   "cell_type": "markdown",
   "metadata": {},
   "source": [
    "###### Import Libraries"
   ]
  },
  {
   "cell_type": "code",
   "execution_count": 1,
   "metadata": {},
   "outputs": [],
   "source": [
    "import pandas as pd\n",
    "import numpy as np\n",
    "import matplotlib.pyplot as plt\n",
    "from scipy.optimize import curve_fit\n",
    "import warnings\n",
    "warnings.filterwarnings('ignore')"
   ]
  },
  {
   "cell_type": "markdown",
   "metadata": {},
   "source": [
    "###### Load the data into DataFrames\n",
    "Pandas' DataFrame objects allow the data to be easily tracked and manipulated"
   ]
  },
  {
   "cell_type": "code",
   "execution_count": 2,
   "metadata": {},
   "outputs": [
    {
     "data": {
      "text/html": [
       "<div>\n",
       "<style scoped>\n",
       "    .dataframe tbody tr th:only-of-type {\n",
       "        vertical-align: middle;\n",
       "    }\n",
       "\n",
       "    .dataframe tbody tr th {\n",
       "        vertical-align: top;\n",
       "    }\n",
       "\n",
       "    .dataframe thead th {\n",
       "        text-align: right;\n",
       "    }\n",
       "</style>\n",
       "<table border=\"1\" class=\"dataframe\">\n",
       "  <thead>\n",
       "    <tr style=\"text-align: right;\">\n",
       "      <th></th>\n",
       "      <th>api</th>\n",
       "      <th>date</th>\n",
       "      <th>index</th>\n",
       "      <th>volume_oil_formation_bbls</th>\n",
       "      <th>volume_gas_formation_mcf</th>\n",
       "      <th>volume_water_formation_bbls</th>\n",
       "      <th>year</th>\n",
       "    </tr>\n",
       "  </thead>\n",
       "  <tbody>\n",
       "    <tr>\n",
       "      <th>0</th>\n",
       "      <td>33053026790000</td>\n",
       "      <td>2018-08-01</td>\n",
       "      <td>148</td>\n",
       "      <td>830</td>\n",
       "      <td>1629</td>\n",
       "      <td>234</td>\n",
       "      <td>2018</td>\n",
       "    </tr>\n",
       "    <tr>\n",
       "      <th>1</th>\n",
       "      <td>33053026790000</td>\n",
       "      <td>2018-07-01</td>\n",
       "      <td>147</td>\n",
       "      <td>917</td>\n",
       "      <td>1658</td>\n",
       "      <td>229</td>\n",
       "      <td>2018</td>\n",
       "    </tr>\n",
       "    <tr>\n",
       "      <th>2</th>\n",
       "      <td>33053026790000</td>\n",
       "      <td>2018-06-01</td>\n",
       "      <td>146</td>\n",
       "      <td>927</td>\n",
       "      <td>1478</td>\n",
       "      <td>232</td>\n",
       "      <td>2018</td>\n",
       "    </tr>\n",
       "    <tr>\n",
       "      <th>3</th>\n",
       "      <td>33053026790000</td>\n",
       "      <td>2018-05-01</td>\n",
       "      <td>145</td>\n",
       "      <td>980</td>\n",
       "      <td>1142</td>\n",
       "      <td>519</td>\n",
       "      <td>2018</td>\n",
       "    </tr>\n",
       "    <tr>\n",
       "      <th>4</th>\n",
       "      <td>33053026790000</td>\n",
       "      <td>2018-04-01</td>\n",
       "      <td>144</td>\n",
       "      <td>603</td>\n",
       "      <td>608</td>\n",
       "      <td>128</td>\n",
       "      <td>2018</td>\n",
       "    </tr>\n",
       "  </tbody>\n",
       "</table>\n",
       "</div>"
      ],
      "text/plain": [
       "              api       date  index  volume_oil_formation_bbls  \\\n",
       "0  33053026790000 2018-08-01    148                        830   \n",
       "1  33053026790000 2018-07-01    147                        917   \n",
       "2  33053026790000 2018-06-01    146                        927   \n",
       "3  33053026790000 2018-05-01    145                        980   \n",
       "4  33053026790000 2018-04-01    144                        603   \n",
       "\n",
       "   volume_gas_formation_mcf  volume_water_formation_bbls  year  \n",
       "0                      1629                          234  2018  \n",
       "1                      1658                          229  2018  \n",
       "2                      1478                          232  2018  \n",
       "3                      1142                          519  2018  \n",
       "4                       608                          128  2018  "
      ]
     },
     "execution_count": 2,
     "metadata": {},
     "output_type": "execute_result"
    }
   ],
   "source": [
    "dfprod = pd.read_csv('ND_PRODUCTION_DATA.csv', parse_dates = ['date'])\n",
    "to_drop = ['producing_days','state']\n",
    "dfprod.drop(to_drop,inplace=True,axis=1)\n",
    "dfprod['year'] = dfprod['date'].apply(lambda x:x.year)\n",
    "dfprod.head()"
   ]
  },
  {
   "cell_type": "markdown",
   "metadata": {},
   "source": [
    "The 'api' column houses a unique number for each well in the Baaken field. This DataFrame also has monthly measures of oil, gas, and water produced. I've dropped information that I don't need; like days producing and state that the well was in. I've also created a 'year' column by extracting the year from the 'date' column."
   ]
  },
  {
   "cell_type": "code",
   "execution_count": 3,
   "metadata": {},
   "outputs": [
    {
     "data": {
      "text/html": [
       "<div>\n",
       "<style scoped>\n",
       "    .dataframe tbody tr th:only-of-type {\n",
       "        vertical-align: middle;\n",
       "    }\n",
       "\n",
       "    .dataframe tbody tr th {\n",
       "        vertical-align: top;\n",
       "    }\n",
       "\n",
       "    .dataframe thead th {\n",
       "        text-align: right;\n",
       "    }\n",
       "</style>\n",
       "<table border=\"1\" class=\"dataframe\">\n",
       "  <thead>\n",
       "    <tr style=\"text-align: right;\">\n",
       "      <th></th>\n",
       "      <th>api</th>\n",
       "      <th>completion_date</th>\n",
       "      <th>spud_date</th>\n",
       "      <th>cum_oil</th>\n",
       "      <th>lateral_length</th>\n",
       "      <th>operator_name</th>\n",
       "      <th>comp_year</th>\n",
       "      <th>spud_year</th>\n",
       "    </tr>\n",
       "  </thead>\n",
       "  <tbody>\n",
       "    <tr>\n",
       "      <th>0</th>\n",
       "      <td>33053026790000</td>\n",
       "      <td>2006-05-27</td>\n",
       "      <td>2010-09-20</td>\n",
       "      <td>187579</td>\n",
       "      <td>5133.89</td>\n",
       "      <td>SLAWSON EXPLORATION COMPANY INC</td>\n",
       "      <td>2006.0</td>\n",
       "      <td>2010.0</td>\n",
       "    </tr>\n",
       "    <tr>\n",
       "      <th>1</th>\n",
       "      <td>33053027070000</td>\n",
       "      <td>2006-07-22</td>\n",
       "      <td>2010-05-06</td>\n",
       "      <td>71741</td>\n",
       "      <td>5103.54</td>\n",
       "      <td>PETRO-HUNT DAKOTA LLC</td>\n",
       "      <td>2006.0</td>\n",
       "      <td>2010.0</td>\n",
       "    </tr>\n",
       "    <tr>\n",
       "      <th>2</th>\n",
       "      <td>33053027750000</td>\n",
       "      <td>2007-08-07</td>\n",
       "      <td>2010-07-29</td>\n",
       "      <td>185541</td>\n",
       "      <td>6167.43</td>\n",
       "      <td>SLAWSON EXPLORATION COMPANY INC</td>\n",
       "      <td>2007.0</td>\n",
       "      <td>2010.0</td>\n",
       "    </tr>\n",
       "    <tr>\n",
       "      <th>3</th>\n",
       "      <td>33053030070000</td>\n",
       "      <td>2010-01-15</td>\n",
       "      <td>2009-09-15</td>\n",
       "      <td>359458</td>\n",
       "      <td>5849.00</td>\n",
       "      <td>WPX ENERGY WILLISTON LLC</td>\n",
       "      <td>2010.0</td>\n",
       "      <td>2009.0</td>\n",
       "    </tr>\n",
       "    <tr>\n",
       "      <th>4</th>\n",
       "      <td>33053030250000</td>\n",
       "      <td>2009-11-23</td>\n",
       "      <td>2009-08-09</td>\n",
       "      <td>291196</td>\n",
       "      <td>4373.14</td>\n",
       "      <td>WPX ENERGY WILLISTON LLC</td>\n",
       "      <td>2009.0</td>\n",
       "      <td>2009.0</td>\n",
       "    </tr>\n",
       "  </tbody>\n",
       "</table>\n",
       "</div>"
      ],
      "text/plain": [
       "              api completion_date  spud_date  cum_oil  lateral_length  \\\n",
       "0  33053026790000      2006-05-27 2010-09-20   187579         5133.89   \n",
       "1  33053027070000      2006-07-22 2010-05-06    71741         5103.54   \n",
       "2  33053027750000      2007-08-07 2010-07-29   185541         6167.43   \n",
       "3  33053030070000      2010-01-15 2009-09-15   359458         5849.00   \n",
       "4  33053030250000      2009-11-23 2009-08-09   291196         4373.14   \n",
       "\n",
       "                     operator_name  comp_year  spud_year  \n",
       "0  SLAWSON EXPLORATION COMPANY INC     2006.0     2010.0  \n",
       "1            PETRO-HUNT DAKOTA LLC     2006.0     2010.0  \n",
       "2  SLAWSON EXPLORATION COMPANY INC     2007.0     2010.0  \n",
       "3         WPX ENERGY WILLISTON LLC     2010.0     2009.0  \n",
       "4         WPX ENERGY WILLISTON LLC     2009.0     2009.0  "
      ]
     },
     "execution_count": 3,
     "metadata": {},
     "output_type": "execute_result"
    }
   ],
   "source": [
    "df1 = pd.read_csv('ND_WELL_DATA.csv', parse_dates = ['completion_date','spud_date'])\n",
    "dfwell = df1[['api','completion_date','spud_date','cum_oil','lateral_length','operator_name']]\n",
    "\n",
    "dfwell['comp_year'] = dfwell['completion_date'].apply(lambda x:x.year)\n",
    "dfwell['spud_year'] = dfwell['spud_date'].apply(lambda x:x.year)\n",
    "dfwell.head()"
   ]
  },
  {
   "cell_type": "markdown",
   "metadata": {},
   "source": [
    "I've selected only the most relevent data from the original dataset. I created year columns again for completion and spud date."
   ]
  },
  {
   "cell_type": "markdown",
   "metadata": {},
   "source": [
    "##### Clean and sort the data\n",
    "\n",
    "First, I want to sort the data such that each well has its own DataFrame. I need to grab every unique api and append it's associated data onto a list."
   ]
  },
  {
   "cell_type": "code",
   "execution_count": 4,
   "metadata": {},
   "outputs": [
    {
     "name": "stdout",
     "output_type": "stream",
     "text": [
      "636 <class 'numpy.ndarray'>\n",
      "True\n"
     ]
    },
    {
     "data": {
      "text/html": [
       "<div>\n",
       "<style scoped>\n",
       "    .dataframe tbody tr th:only-of-type {\n",
       "        vertical-align: middle;\n",
       "    }\n",
       "\n",
       "    .dataframe tbody tr th {\n",
       "        vertical-align: top;\n",
       "    }\n",
       "\n",
       "    .dataframe thead th {\n",
       "        text-align: right;\n",
       "    }\n",
       "</style>\n",
       "<table border=\"1\" class=\"dataframe\">\n",
       "  <thead>\n",
       "    <tr style=\"text-align: right;\">\n",
       "      <th></th>\n",
       "      <th>api</th>\n",
       "      <th>date</th>\n",
       "      <th>index</th>\n",
       "      <th>volume_oil_formation_bbls</th>\n",
       "      <th>volume_gas_formation_mcf</th>\n",
       "      <th>volume_water_formation_bbls</th>\n",
       "      <th>year</th>\n",
       "    </tr>\n",
       "  </thead>\n",
       "  <tbody>\n",
       "    <tr>\n",
       "      <th>0</th>\n",
       "      <td>33053026790000</td>\n",
       "      <td>2018-08-01</td>\n",
       "      <td>148</td>\n",
       "      <td>830</td>\n",
       "      <td>1629</td>\n",
       "      <td>234</td>\n",
       "      <td>2018</td>\n",
       "    </tr>\n",
       "    <tr>\n",
       "      <th>1</th>\n",
       "      <td>33053026790000</td>\n",
       "      <td>2018-07-01</td>\n",
       "      <td>147</td>\n",
       "      <td>917</td>\n",
       "      <td>1658</td>\n",
       "      <td>229</td>\n",
       "      <td>2018</td>\n",
       "    </tr>\n",
       "    <tr>\n",
       "      <th>2</th>\n",
       "      <td>33053026790000</td>\n",
       "      <td>2018-06-01</td>\n",
       "      <td>146</td>\n",
       "      <td>927</td>\n",
       "      <td>1478</td>\n",
       "      <td>232</td>\n",
       "      <td>2018</td>\n",
       "    </tr>\n",
       "    <tr>\n",
       "      <th>3</th>\n",
       "      <td>33053026790000</td>\n",
       "      <td>2018-05-01</td>\n",
       "      <td>145</td>\n",
       "      <td>980</td>\n",
       "      <td>1142</td>\n",
       "      <td>519</td>\n",
       "      <td>2018</td>\n",
       "    </tr>\n",
       "    <tr>\n",
       "      <th>4</th>\n",
       "      <td>33053026790000</td>\n",
       "      <td>2018-04-01</td>\n",
       "      <td>144</td>\n",
       "      <td>603</td>\n",
       "      <td>608</td>\n",
       "      <td>128</td>\n",
       "      <td>2018</td>\n",
       "    </tr>\n",
       "  </tbody>\n",
       "</table>\n",
       "</div>"
      ],
      "text/plain": [
       "              api       date  index  volume_oil_formation_bbls  \\\n",
       "0  33053026790000 2018-08-01    148                        830   \n",
       "1  33053026790000 2018-07-01    147                        917   \n",
       "2  33053026790000 2018-06-01    146                        927   \n",
       "3  33053026790000 2018-05-01    145                        980   \n",
       "4  33053026790000 2018-04-01    144                        603   \n",
       "\n",
       "   volume_gas_formation_mcf  volume_water_formation_bbls  year  \n",
       "0                      1629                          234  2018  \n",
       "1                      1658                          229  2018  \n",
       "2                      1478                          232  2018  \n",
       "3                      1142                          519  2018  \n",
       "4                       608                          128  2018  "
      ]
     },
     "execution_count": 4,
     "metadata": {},
     "output_type": "execute_result"
    }
   ],
   "source": [
    "x = pd.unique(dfprod['api'])\n",
    "print(len(x),type(x))\n",
    "wells = []\n",
    "for i in range(len(x)):\n",
    "    wells.append(dfprod.groupby(['api']).get_group(x[i]))\n",
    "print(len(wells) == len(x)) #make sure number of wells has not changed\n",
    "wells[0].head()"
   ]
  },
  {
   "cell_type": "markdown",
   "metadata": {},
   "source": [
    "Here x is an array of each unique well ID. There are 636 wells in this dataset."
   ]
  },
  {
   "cell_type": "code",
   "execution_count": 5,
   "metadata": {},
   "outputs": [
    {
     "data": {
      "text/plain": [
       "array([2010., 2010., 2010., 2010., 2010., 2011., 2011., 2010., 2010.])"
      ]
     },
     "execution_count": 5,
     "metadata": {},
     "output_type": "execute_result"
    }
   ],
   "source": [
    "production_date = np.zeros(len(wells))\n",
    "for i in range(len(wells)):\n",
    "    production_date[i] = min(wells[i]['year'])\n",
    "production_date[1:10]"
   ]
  },
  {
   "cell_type": "markdown",
   "metadata": {},
   "source": [
    "Above, I grabbed the least recent date of production from each well and named it production_date."
   ]
  },
  {
   "cell_type": "markdown",
   "metadata": {},
   "source": [
    "Here is my comparison between completion dates and spud dates. I observed that some spud dates came after completion dates. Because this is physically meaningless, I assumed that after redrilling an already completed well, paperwork was not updated for a new completion date."
   ]
  },
  {
   "cell_type": "code",
   "execution_count": 6,
   "metadata": {},
   "outputs": [],
   "source": [
    "compy = dfwell['comp_year'].values\n",
    "spudy = dfwell['spud_year'].values\n",
    "for i in range(len(spudy)):\n",
    "    if spudy[i] > compy[i]:\n",
    "        if production_date[i] != spudy[i]:\n",
    "            print('in well',i,'there is a discontinuity')\n",
    "            print('spud year', spudy[i], 'doesnt equal prod year', production_date[i])\n",
    "            print('here is completion date', compy[i])"
   ]
  },
  {
   "cell_type": "code",
   "execution_count": 7,
   "metadata": {},
   "outputs": [
    {
     "name": "stdout",
     "output_type": "stream",
     "text": [
      "58\n"
     ]
    }
   ],
   "source": [
    "n=0\n",
    "for i in range(len(spudy)):\n",
    "    if compy[i] > spudy[i]:\n",
    "            if compy[i] != production_date[i]:\n",
    "#                 print('in well',i,'there is a discontinuity')\n",
    "#                 print('comp year', compy[i], 'doesnt equal prod year', production_date[i])\n",
    "                n+=1\n",
    "print(n)"
   ]
  },
  {
   "cell_type": "markdown",
   "metadata": {},
   "source": [
    "For every spud date that was more recent than the completion date, there was no discontinuities between the spud date and production_date (reffered to earlier). However, for each completion date more recent than the spud date; there were 58 disconuities between the completion date and production_date. For this reason, I decided the best plan of action was to use the production_date as the initial producing day for each well.\n",
    "\n",
    "Ultimately, for each well, I want to grab the least recent year of production and use this as the completion date."
   ]
  },
  {
   "cell_type": "markdown",
   "metadata": {},
   "source": [
    "If oil production is less than 10 bbls in a month, I will assume that some sort of shut-in was performed or the data is simply incorrect. I will drop these values so that they don't affect future calculations"
   ]
  },
  {
   "cell_type": "code",
   "execution_count": 8,
   "metadata": {},
   "outputs": [
    {
     "name": "stdout",
     "output_type": "stream",
     "text": [
      "122    170\n",
      "123     42\n",
      "124      0\n",
      "125    181\n",
      "Name: volume_oil_formation_bbls, dtype: int64\n",
      "122    170\n",
      "123     42\n",
      "125    181\n",
      "126    251\n",
      "Name: volume_oil_formation_bbls, dtype: int64\n"
     ]
    }
   ],
   "source": [
    "print(dfprod['volume_oil_formation_bbls'][122:126])\n",
    "for i in range(10):\n",
    "    dfprod= dfprod[dfprod.volume_oil_formation_bbls != [i]]\n",
    "print(dfprod['volume_oil_formation_bbls'][122:126])"
   ]
  },
  {
   "cell_type": "markdown",
   "metadata": {},
   "source": [
    "### Calculate GOR\n",
    "In order to calculate cumulative production, I summed the monthly production values for each well."
   ]
  },
  {
   "cell_type": "code",
   "execution_count": 9,
   "metadata": {},
   "outputs": [
    {
     "data": {
      "text/plain": [
       "array([0.99849766, 0.59984937, 0.53652693, 1.14455374, 1.04111548,\n",
       "       0.95936033, 1.93565332, 1.43794761, 0.93448281, 1.57820308])"
      ]
     },
     "execution_count": 9,
     "metadata": {},
     "output_type": "execute_result"
    }
   ],
   "source": [
    "cumul_oil = np.zeros(len(wells))\n",
    "cumul_gas = np.zeros(len(wells))\n",
    "for i in range(len(wells)):\n",
    "    cumul_oil[i] = np.sum(wells[i]['volume_oil_formation_bbls'])\n",
    "    cumul_gas[i] = np.sum(wells[i]['volume_gas_formation_mcf'])\n",
    "cumul_gor = cumul_gas/cumul_oil #in bbls/mcf\n",
    "cumul_gor[0:10]"
   ]
  },
  {
   "cell_type": "markdown",
   "metadata": {},
   "source": [
    "Note: I am keeping track of data by strictly maintaining matching array indexes for wells and their properties due to my currently limited knowledge in the handling of dictionaries. In the future, I plan to develop this skill."
   ]
  },
  {
   "cell_type": "code",
   "execution_count": 10,
   "metadata": {},
   "outputs": [
    {
     "data": {
      "text/html": [
       "<div>\n",
       "<style scoped>\n",
       "    .dataframe tbody tr th:only-of-type {\n",
       "        vertical-align: middle;\n",
       "    }\n",
       "\n",
       "    .dataframe tbody tr th {\n",
       "        vertical-align: top;\n",
       "    }\n",
       "\n",
       "    .dataframe thead th {\n",
       "        text-align: right;\n",
       "    }\n",
       "</style>\n",
       "<table border=\"1\" class=\"dataframe\">\n",
       "  <thead>\n",
       "    <tr style=\"text-align: right;\">\n",
       "      <th></th>\n",
       "      <th>Gor</th>\n",
       "      <th>year</th>\n",
       "      <th>operator</th>\n",
       "    </tr>\n",
       "  </thead>\n",
       "  <tbody>\n",
       "    <tr>\n",
       "      <th>0</th>\n",
       "      <td>0.998498</td>\n",
       "      <td>2010.0</td>\n",
       "      <td>SLAWSON EXPLORATION COMPANY INC</td>\n",
       "    </tr>\n",
       "    <tr>\n",
       "      <th>1</th>\n",
       "      <td>0.599849</td>\n",
       "      <td>2010.0</td>\n",
       "      <td>PETRO-HUNT DAKOTA LLC</td>\n",
       "    </tr>\n",
       "    <tr>\n",
       "      <th>2</th>\n",
       "      <td>0.536527</td>\n",
       "      <td>2010.0</td>\n",
       "      <td>SLAWSON EXPLORATION COMPANY INC</td>\n",
       "    </tr>\n",
       "    <tr>\n",
       "      <th>3</th>\n",
       "      <td>1.144554</td>\n",
       "      <td>2010.0</td>\n",
       "      <td>WPX ENERGY WILLISTON LLC</td>\n",
       "    </tr>\n",
       "    <tr>\n",
       "      <th>4</th>\n",
       "      <td>1.041115</td>\n",
       "      <td>2010.0</td>\n",
       "      <td>WPX ENERGY WILLISTON LLC</td>\n",
       "    </tr>\n",
       "  </tbody>\n",
       "</table>\n",
       "</div>"
      ],
      "text/plain": [
       "        Gor    year                         operator\n",
       "0  0.998498  2010.0  SLAWSON EXPLORATION COMPANY INC\n",
       "1  0.599849  2010.0            PETRO-HUNT DAKOTA LLC\n",
       "2  0.536527  2010.0  SLAWSON EXPLORATION COMPANY INC\n",
       "3  1.144554  2010.0         WPX ENERGY WILLISTON LLC\n",
       "4  1.041115  2010.0         WPX ENERGY WILLISTON LLC"
      ]
     },
     "execution_count": 10,
     "metadata": {},
     "output_type": "execute_result"
    }
   ],
   "source": [
    "y= pd.unique(dfwell['operator_name']) #this is a list of each unique op\n",
    "dfgoryear = pd.DataFrame()\n",
    "dfgoryear['Gor'] = cumul_gor\n",
    "dfgoryear['year'] = production_date\n",
    "dfgoryear['operator']=dfwell['operator_name']\n",
    "dfgoryear.head()"
   ]
  },
  {
   "cell_type": "markdown",
   "metadata": {},
   "source": [
    "Now that I have cumulative GOR for each well, I need to sort them by company and then sort them by year. Where companies had multiple wells beginning production in a single year, I took the average GOR for these wells."
   ]
  },
  {
   "cell_type": "code",
   "execution_count": 11,
   "metadata": {},
   "outputs": [
    {
     "data": {
      "text/plain": [
       "[        avg    year                               op\n",
       " 0  1.249001  2010.0  SLAWSON EXPLORATION COMPANY INC\n",
       " 1  1.037832  2011.0  SLAWSON EXPLORATION COMPANY INC\n",
       " 2  1.007157  2012.0  SLAWSON EXPLORATION COMPANY INC\n",
       " 3  1.261194  2013.0  SLAWSON EXPLORATION COMPANY INC\n",
       " 4  1.888297  2018.0  SLAWSON EXPLORATION COMPANY INC\n",
       " 5  1.701514  2014.0  SLAWSON EXPLORATION COMPANY INC\n",
       " 6  2.333831  2015.0  SLAWSON EXPLORATION COMPANY INC,\n",
       "          avg    year                     op\n",
       " 7   0.554195  2010.0  PETRO-HUNT DAKOTA LLC\n",
       " 8   1.484735  2011.0  PETRO-HUNT DAKOTA LLC\n",
       " 9   1.336063  2012.0  PETRO-HUNT DAKOTA LLC\n",
       " 10  1.234948  2013.0  PETRO-HUNT DAKOTA LLC\n",
       " 11  1.064957  2014.0  PETRO-HUNT DAKOTA LLC\n",
       " 12  0.874239  2015.0  PETRO-HUNT DAKOTA LLC]"
      ]
     },
     "execution_count": 11,
     "metadata": {},
     "output_type": "execute_result"
    }
   ],
   "source": [
    "companygoryear = []\n",
    "for i in range(len(y)):\n",
    "    companygoryear.append(dfgoryear.groupby(['operator']).get_group(y[i]))\n",
    "Gor_by_yearf = []\n",
    "uniqyear = []\n",
    "for i in range(len(companygoryear)):\n",
    "    uniqyear.append(pd.unique(companygoryear[i]['year']))\n",
    "\n",
    "for i in range(len(companygoryear)):\n",
    "     for k in range(len(uniqyear[i])):\n",
    "        Gor_by_yearf.append(companygoryear[i].groupby(['year']).get_group(uniqyear[i][k]))\n",
    "GORAVG = []\n",
    "GORYEAR = []\n",
    "GOROP = []\n",
    "for i in range(len(Gor_by_yearf)):\n",
    "    GORAVG.append(np.average(Gor_by_yearf[i]['Gor'])) #this is average Gor\n",
    "    GORYEAR.append(Gor_by_yearf[i].reset_index()['year'][0]) #this is the year\n",
    "    GOROP.append(Gor_by_yearf[i].reset_index()['operator'][0]) #this is company\n",
    "dfgoryearly = pd.DataFrame()\n",
    "dfgoryearly['avg'] = GORAVG\n",
    "dfgoryearly['year'] = GORYEAR\n",
    "dfgoryearly['op'] = GOROP\n",
    "dfgoryearly\n",
    "listgoryear = []\n",
    "for i in range(len(y)):\n",
    "    listgoryear.append(dfgoryearly.groupby(['op']).get_group(y[i]))\n",
    "listgoryear[0:2]"
   ]
  },
  {
   "cell_type": "markdown",
   "metadata": {},
   "source": [
    "## Visualisation of GOR per year\n",
    "Now that I have obtained yearly averages for each company, I can finally visualize and compare the data."
   ]
  },
  {
   "cell_type": "code",
   "execution_count": 12,
   "metadata": {},
   "outputs": [
    {
     "data": {
      "image/png": "[encoded data removed]",
      "text/plain": [
       "<Figure size 432x288 with 1 Axes>"
      ]
     },
     "metadata": {
      "needs_background": "light"
     },
     "output_type": "display_data"
    }
   ],
   "source": [
    "for i in range(len(listgoryear)):\n",
    "    plt.plot(listgoryear[i]['year'],listgoryear[i]['avg'])\n",
    "plt.title('GOR per year by Company')\n",
    "plt.ylabel('Mcf/Bbls')\n",
    "ax=plt.subplot(111)\n",
    "ax.legend(['Slawson','Petro-Hunt','WPX','Enerplus','Marathon','Abraxas','Murex','Crescent','Kraken','Liberty'])\n",
    "plt.show()"
   ]
  },
  {
   "cell_type": "code",
   "execution_count": 13,
   "metadata": {
    "scrolled": true
   },
   "outputs": [
    {
     "data": {
      "image/png": "[encoded data removed]",
      "text/plain": [
       "<Figure size 432x288 with 1 Axes>"
      ]
     },
     "metadata": {
      "needs_background": "light"
     },
     "output_type": "display_data"
    }
   ],
   "source": [
    "ax=plt.subplot(111)\n",
    "ax.bar(listgoryear[0]['year']-0.2, listgoryear[0]['avg'], width=0.2, color='blue', align='center')\n",
    "ax.bar(listgoryear[1]['year'], listgoryear[1]['avg'], width=0.2, color='g', align='center')\n",
    "ax.bar(listgoryear[2]['year']+0.2, listgoryear[2]['avg'], width=0.2, color='r', align='center')\n",
    "ax.bar(listgoryear[3]['year']-0.3, listgoryear[3]['avg'], width=0.2, color='black', align='center')\n",
    "ax.bar(listgoryear[4]['year']+.1, listgoryear[4]['avg'], width=0.2, color='purple', align='center')\n",
    "ax.bar(listgoryear[5]['year']+0.3, listgoryear[5]['avg'], width=0.2, color='magenta', align='center')\n",
    "ax.bar(listgoryear[6]['year']-0.1, listgoryear[6]['avg'], width=0.2, color='y', align='center')\n",
    "ax.bar(listgoryear[7]['year']+0.35, listgoryear[7]['avg'], width=0.2, color='cyan', align='center')\n",
    "ax.bar(listgoryear[8]['year']-0.4, listgoryear[8]['avg'], width=0.2, color='gray', align='center')\n",
    "ax.bar(listgoryear[9]['year']+.15, listgoryear[9]['avg'], width=0.2, color='orange', align='center')\n",
    "ax.legend(['Slawson','Petro-Hunt','WPX','Enerplus','Marathon','Abraxas','Murex','Crescent','Kraken','Liberty'])\n",
    "plt.title('GOR per year by Company')\n",
    "plt.ylabel('Mcf/Bbls')\n",
    "plt.show()"
   ]
  },
  {
   "cell_type": "markdown",
   "metadata": {},
   "source": [
    "### Calculate EUR"
   ]
  },
  {
   "cell_type": "markdown",
   "metadata": {},
   "source": [
    "First, I need to sort each well by month and model the data such that production begins at max production."
   ]
  },
  {
   "cell_type": "code",
   "execution_count": 14,
   "metadata": {},
   "outputs": [
    {
     "name": "stdout",
     "output_type": "stream",
     "text": [
      "[4923 2960 3500 3823 3327 2982 3289 2912 2807 2510]\n",
      "[65 66 67 68 69 70 71 72 73 74]\n"
     ]
    }
   ],
   "source": [
    "for i in range(len(wells)):\n",
    "    wells[i] = wells[i].sort_values(by=['index'])\n",
    "indexes = []\n",
    "volumes = []\n",
    "firstmonth = []\n",
    "for i in range(len(wells)):\n",
    "    indexes.append(wells[i]['index'])\n",
    "    volumes.append(wells[i]['volume_oil_formation_bbls'])\n",
    "    stmonth = [w for w, item in enumerate(volumes[i]) if item == max(volumes[i])]\n",
    "    firstmonth.append(stmonth[0])\n",
    "                   \n",
    "# index = wells[0]['index']\n",
    "# vol = wells[0]['volume_oil_formation_bbls']\n",
    "# month1 = [i for i, item in enumerate(vol) if item == max(vol)]\n",
    "rates = []\n",
    "months = []\n",
    "for i in range(len(firstmonth)):\n",
    "    rates.append(np.array(volumes[i])[firstmonth[i]:])\n",
    "    months.append(np.array(indexes[i])[firstmonth[i]:])\n",
    "\n",
    "# rate = np.array(vol)[month1[0]:]\n",
    "# len(months) == len(rate)\n",
    "print(rates[0][0:10]) #bbls/month\n",
    "print(months[0][0:10])"
   ]
  },
  {
   "cell_type": "markdown",
   "metadata": {},
   "source": [
    "I will also need to reset the index so that peak production is 'month 1'."
   ]
  },
  {
   "cell_type": "code",
   "execution_count": 15,
   "metadata": {},
   "outputs": [
    {
     "data": {
      "text/plain": [
       "array([ 1,  2,  3,  4,  5,  6,  7,  8,  9, 10], dtype=int64)"
      ]
     },
     "execution_count": 15,
     "metadata": {},
     "output_type": "execute_result"
    }
   ],
   "source": [
    "for i in range(len(months)):\n",
    "    months[i][0] = 1\n",
    "    \n",
    "    for k in range(1,len(months[i])):\n",
    "        months[i][k] = months[i][k-1]+1\n",
    "months[0][0:10]"
   ]
  },
  {
   "cell_type": "markdown",
   "metadata": {},
   "source": [
    "Below I've plotted a few arbitrary samples from the data set for visualization purposes."
   ]
  },
  {
   "cell_type": "code",
   "execution_count": 16,
   "metadata": {},
   "outputs": [
    {
     "data": {
      "text/plain": [
       "Text(0.5, 0, 'Months')"
      ]
     },
     "execution_count": 16,
     "metadata": {},
     "output_type": "execute_result"
    },
    {
     "data": {
      "image/png": "[encoded data removed]",
      "text/plain": [
       "<Figure size 432x288 with 1 Axes>"
      ]
     },
     "metadata": {
      "needs_background": "light"
     },
     "output_type": "display_data"
    }
   ],
   "source": [
    "plt.plot(months[99],rates[99]);plt.plot(months[0],rates[0])\n",
    "plt.plot(months[1],rates[1]);plt.plot(months[18],rates[18])\n",
    "plt.title('Production Rate vs. Month')\n",
    "plt.ylabel('Bbls')\n",
    "plt.xlabel('Months')"
   ]
  },
  {
   "cell_type": "markdown",
   "metadata": {},
   "source": [
    "#### Modeling decline curves with Hyperbolic Decline\n",
    "\n",
    "The basic assumption in this procedure is that whatever causes controlled the trend of a curve in the past will continue to govern its trend in the future in a uniform manner. To model my data, I will use the Arps Equation of Hyperbolic Decline:\n",
    "\n",
    "$$N_{p} = \\left[\\frac{q_i^b}{(b-1)d_i}\\right]*\\left[q^{(1-b)}-q_i^{(1-b)}\\right]$$\n",
    "\n",
    "where flowrate is, $$q = \\frac{q_i}{(1+bd_it)^{\\frac{1}{b}}}$$\n",
    "\n",
    "Three constants:\n",
    "\n",
    "-The initial production rate\n",
    "\n",
    "-The initial decline rate\n",
    "\n",
    "-The hyperbolic exponent, b\n",
    "\n",
    "I will solve for these 3 constants with scipy's curve_fit function. I have placed some reasonble boundaries on what I think the constants could be according to their physical meanings."
   ]
  },
  {
   "cell_type": "code",
   "execution_count": 17,
   "metadata": {},
   "outputs": [
    {
     "data": {
      "text/plain": [
       "[array([4.44904327e+03, 1.00000000e+00, 7.58385318e-02]),\n",
       " array([4.78743980e+03, 1.00000000e+00, 4.55029364e-01]),\n",
       " array([3.81373882e+03, 1.00000000e+00, 5.11901154e-02]),\n",
       " array([5.00000000e+04, 6.65067497e-01, 8.01728842e-01])]"
      ]
     },
     "execution_count": 17,
     "metadata": {},
     "output_type": "execute_result"
    }
   ],
   "source": [
    "#hyprbolic decline\n",
    "q = lambda t,qi, b, di,: qi/(1+b*di*t)**(1/b)\n",
    "arr= []\n",
    "for i in range(len(months)):\n",
    "    arre, trash = curve_fit(q,months[i],rates[i], bounds=(0, [50000, 1, 200]))\n",
    "    arr.append(arre)\n",
    "arr[0:4]"
   ]
  },
  {
   "cell_type": "markdown",
   "metadata": {},
   "source": [
    "The values of the arrays are initial flow rate, hyperbolic exponent b, and the initial decline rate.\n",
    "\n",
    "##### Visualisation\n",
    "It appears my curve fits the dataset reasonably."
   ]
  },
  {
   "cell_type": "code",
   "execution_count": 18,
   "metadata": {},
   "outputs": [
    {
     "data": {
      "image/png": "[encoded data removed]",
      "text/plain": [
       "<Figure size 432x288 with 1 Axes>"
      ]
     },
     "metadata": {
      "needs_background": "light"
     },
     "output_type": "display_data"
    }
   ],
   "source": [
    "plt.plot(months[99],q(months[99],arr[99][0],arr[99][1],arr[99][2]))\n",
    "plt.plot(months[99],rates[99])\n",
    "plt.title('Production rate vs. Month')\n",
    "plt.show()"
   ]
  },
  {
   "cell_type": "code",
   "execution_count": 19,
   "metadata": {},
   "outputs": [
    {
     "data": {
      "image/png": "[encoded data removed]",
      "text/plain": [
       "<Figure size 432x288 with 1 Axes>"
      ]
     },
     "metadata": {
      "needs_background": "light"
     },
     "output_type": "display_data"
    }
   ],
   "source": [
    "plt.plot(months[0],q(months[0],arr[0][0],arr[0][1],arr[0][2]))\n",
    "plt.plot(months[0],rates[0])\n",
    "plt.title('Production rate vs. Month')\n",
    "plt.show()"
   ]
  },
  {
   "cell_type": "markdown",
   "metadata": {},
   "source": [
    "Because of the nature of the Arps hyperbolic decline curve, I cannot extrapolate my model until it reaches the x axis because that would result in an infinite EUR. Instead, I will run with the assumption that each well will produce for 20 years. Although this is not a rigorous assumption, I believe that the error will have little effect on ranking EURs by well."
   ]
  },
  {
   "cell_type": "code",
   "execution_count": 20,
   "metadata": {},
   "outputs": [
    {
     "data": {
      "text/plain": [
       "array([169088.4746642 ,  45613.53936438, 189006.96442639])"
      ]
     },
     "execution_count": 20,
     "metadata": {},
     "output_type": "execute_result"
    }
   ],
   "source": [
    "sp = np.linspace(1,240,240) #240 months = 20 years\n",
    "qq = []\n",
    "EUR=np.zeros(len(arr))\n",
    "for i in range(len(arr)):\n",
    "    EUR[i] = np.trapz(q(sp,arr[i][0],arr[i][1],arr[i][2]),dx=1)\n",
    "    #calculate area of curve with trapezoidal appproximation\n",
    "EUR[0:3] #bbls"
   ]
  },
  {
   "cell_type": "markdown",
   "metadata": {},
   "source": [
    "##### Calculating productivity per well\n",
    "To calculate productivity, I have decided to normalize EUR by the lateral length of the reservoir. This way, we can rank companies by their ability to produce hydrocarbons and not by how much land they can buy."
   ]
  },
  {
   "cell_type": "code",
   "execution_count": 21,
   "metadata": {},
   "outputs": [
    {
     "data": {
      "text/plain": [
       "array([32.93574164,  8.93762748, 30.64598454, 23.1086186 ])"
      ]
     },
     "execution_count": 21,
     "metadata": {},
     "output_type": "execute_result"
    }
   ],
   "source": [
    "latlen = dfwell['lateral_length']\n",
    "Well_productivity = np.zeros(len(arr))\n",
    "for i in range(len(arr)):\n",
    "    Well_productivity[i] = EUR[i]/dfwell['lateral_length'][i]\n",
    "Well_productivity[0:4]"
   ]
  },
  {
   "cell_type": "markdown",
   "metadata": {},
   "source": [
    "##### Calculating EUR per well that started producing in 2015\n",
    "The problem statement specified to calculate only for wells that began production in the year 2015."
   ]
  },
  {
   "cell_type": "code",
   "execution_count": 22,
   "metadata": {},
   "outputs": [
    {
     "data": {
      "text/html": [
       "<div>\n",
       "<style scoped>\n",
       "    .dataframe tbody tr th:only-of-type {\n",
       "        vertical-align: middle;\n",
       "    }\n",
       "\n",
       "    .dataframe tbody tr th {\n",
       "        vertical-align: top;\n",
       "    }\n",
       "\n",
       "    .dataframe thead th {\n",
       "        text-align: right;\n",
       "    }\n",
       "</style>\n",
       "<table border=\"1\" class=\"dataframe\">\n",
       "  <thead>\n",
       "    <tr style=\"text-align: right;\">\n",
       "      <th></th>\n",
       "      <th>EUR</th>\n",
       "      <th>Well</th>\n",
       "      <th>year</th>\n",
       "      <th>operator</th>\n",
       "      <th>productivity</th>\n",
       "    </tr>\n",
       "  </thead>\n",
       "  <tbody>\n",
       "    <tr>\n",
       "      <th>0</th>\n",
       "      <td>169088.474664</td>\n",
       "      <td>0</td>\n",
       "      <td>2010.0</td>\n",
       "      <td>SLAWSON EXPLORATION COMPANY INC</td>\n",
       "      <td>32.935742</td>\n",
       "    </tr>\n",
       "    <tr>\n",
       "      <th>1</th>\n",
       "      <td>45613.539364</td>\n",
       "      <td>1</td>\n",
       "      <td>2010.0</td>\n",
       "      <td>PETRO-HUNT DAKOTA LLC</td>\n",
       "      <td>8.937627</td>\n",
       "    </tr>\n",
       "    <tr>\n",
       "      <th>2</th>\n",
       "      <td>189006.964426</td>\n",
       "      <td>2</td>\n",
       "      <td>2010.0</td>\n",
       "      <td>SLAWSON EXPLORATION COMPANY INC</td>\n",
       "      <td>30.645985</td>\n",
       "    </tr>\n",
       "    <tr>\n",
       "      <th>3</th>\n",
       "      <td>135162.310219</td>\n",
       "      <td>3</td>\n",
       "      <td>2010.0</td>\n",
       "      <td>WPX ENERGY WILLISTON LLC</td>\n",
       "      <td>23.108619</td>\n",
       "    </tr>\n",
       "    <tr>\n",
       "      <th>4</th>\n",
       "      <td>332502.297053</td>\n",
       "      <td>4</td>\n",
       "      <td>2010.0</td>\n",
       "      <td>WPX ENERGY WILLISTON LLC</td>\n",
       "      <td>76.032850</td>\n",
       "    </tr>\n",
       "  </tbody>\n",
       "</table>\n",
       "</div>"
      ],
      "text/plain": [
       "             EUR  Well    year                         operator  productivity\n",
       "0  169088.474664     0  2010.0  SLAWSON EXPLORATION COMPANY INC     32.935742\n",
       "1   45613.539364     1  2010.0            PETRO-HUNT DAKOTA LLC      8.937627\n",
       "2  189006.964426     2  2010.0  SLAWSON EXPLORATION COMPANY INC     30.645985\n",
       "3  135162.310219     3  2010.0         WPX ENERGY WILLISTON LLC     23.108619\n",
       "4  332502.297053     4  2010.0         WPX ENERGY WILLISTON LLC     76.032850"
      ]
     },
     "execution_count": 22,
     "metadata": {},
     "output_type": "execute_result"
    }
   ],
   "source": [
    "dfEUR = pd.DataFrame() #Creating a DataFrame with EUR and productivity\n",
    "dfEUR['EUR'] = EUR\n",
    "dfEUR['Well'] = np.arange(0,len(x))\n",
    "dfEUR['year']  = production_date\n",
    "dfEUR['operator'] = dfwell['operator_name']\n",
    "dfEUR['productivity'] = Well_productivity\n",
    "dfEUR.head()"
   ]
  },
  {
   "cell_type": "code",
   "execution_count": 23,
   "metadata": {},
   "outputs": [
    {
     "data": {
      "text/html": [
       "<div>\n",
       "<style scoped>\n",
       "    .dataframe tbody tr th:only-of-type {\n",
       "        vertical-align: middle;\n",
       "    }\n",
       "\n",
       "    .dataframe tbody tr th {\n",
       "        vertical-align: top;\n",
       "    }\n",
       "\n",
       "    .dataframe thead th {\n",
       "        text-align: right;\n",
       "    }\n",
       "</style>\n",
       "<table border=\"1\" class=\"dataframe\">\n",
       "  <thead>\n",
       "    <tr style=\"text-align: right;\">\n",
       "      <th></th>\n",
       "      <th>EUR</th>\n",
       "      <th>Well</th>\n",
       "      <th>year</th>\n",
       "      <th>operator</th>\n",
       "      <th>productivity</th>\n",
       "    </tr>\n",
       "  </thead>\n",
       "  <tbody>\n",
       "    <tr>\n",
       "      <th>66</th>\n",
       "      <td>496438.854928</td>\n",
       "      <td>66</td>\n",
       "      <td>2015.0</td>\n",
       "      <td>ENERPLUS RESOURCES USA CORPORATION</td>\n",
       "      <td>49.326911</td>\n",
       "    </tr>\n",
       "    <tr>\n",
       "      <th>67</th>\n",
       "      <td>517637.176912</td>\n",
       "      <td>67</td>\n",
       "      <td>2015.0</td>\n",
       "      <td>ENERPLUS RESOURCES USA CORPORATION</td>\n",
       "      <td>52.298628</td>\n",
       "    </tr>\n",
       "    <tr>\n",
       "      <th>68</th>\n",
       "      <td>525521.755146</td>\n",
       "      <td>68</td>\n",
       "      <td>2015.0</td>\n",
       "      <td>ENERPLUS RESOURCES USA CORPORATION</td>\n",
       "      <td>50.281320</td>\n",
       "    </tr>\n",
       "    <tr>\n",
       "      <th>69</th>\n",
       "      <td>462559.692794</td>\n",
       "      <td>69</td>\n",
       "      <td>2015.0</td>\n",
       "      <td>ENERPLUS RESOURCES USA CORPORATION</td>\n",
       "      <td>46.640379</td>\n",
       "    </tr>\n",
       "    <tr>\n",
       "      <th>133</th>\n",
       "      <td>594282.509101</td>\n",
       "      <td>133</td>\n",
       "      <td>2015.0</td>\n",
       "      <td>ENERPLUS RESOURCES USA CORPORATION</td>\n",
       "      <td>61.239848</td>\n",
       "    </tr>\n",
       "  </tbody>\n",
       "</table>\n",
       "</div>"
      ],
      "text/plain": [
       "               EUR  Well    year                            operator  \\\n",
       "66   496438.854928    66  2015.0  ENERPLUS RESOURCES USA CORPORATION   \n",
       "67   517637.176912    67  2015.0  ENERPLUS RESOURCES USA CORPORATION   \n",
       "68   525521.755146    68  2015.0  ENERPLUS RESOURCES USA CORPORATION   \n",
       "69   462559.692794    69  2015.0  ENERPLUS RESOURCES USA CORPORATION   \n",
       "133  594282.509101   133  2015.0  ENERPLUS RESOURCES USA CORPORATION   \n",
       "\n",
       "     productivity  \n",
       "66      49.326911  \n",
       "67      52.298628  \n",
       "68      50.281320  \n",
       "69      46.640379  \n",
       "133     61.239848  "
      ]
     },
     "execution_count": 23,
     "metadata": {},
     "output_type": "execute_result"
    }
   ],
   "source": [
    "EUR2015wells = [] #creating DataFrame of Wells from 2015 only\n",
    "EUR2015wells.append(dfEUR.groupby(['year']).get_group(2015))\n",
    "EUR2015wells[0]\n",
    "dfEURwells = pd.DataFrame(data=EUR2015wells[0])\n",
    "dfEURwells.head()"
   ]
  },
  {
   "cell_type": "code",
   "execution_count": 24,
   "metadata": {},
   "outputs": [
    {
     "data": {
      "image/png": "[encoded data removed]",
      "text/plain": [
       "<Figure size 432x288 with 1 Axes>"
      ]
     },
     "metadata": {
      "needs_background": "light"
     },
     "output_type": "display_data"
    }
   ],
   "source": [
    "plt.scatter(dfEURwells['productivity'],dfEURwells['EUR'])\n",
    "plt.title('EUR vs. Productivity')\n",
    "plt.xlabel('Measure of Productivity')\n",
    "plt.ylabel('EUR (bbls)')\n",
    "plt.show()"
   ]
  },
  {
   "cell_type": "markdown",
   "metadata": {},
   "source": [
    "It is clear that companies with higher estimated EURS were given higher productivity measures. I believe this is because of the wide variability in EUR and the small variability in lateral length of the producing reservoir. My reccomendation is to look into this trend more deeply before making business decisions from this result."
   ]
  },
  {
   "cell_type": "code",
   "execution_count": 25,
   "metadata": {},
   "outputs": [],
   "source": [
    "opsort=[]\n",
    "for i in range(len(y)):\n",
    "    opsort.append(dfEURwells.groupby(['operator']).get_group(y[i]))\n",
    "finallist = []\n",
    "dftoav = pd.DataFrame()\n",
    "dd = np.zeros(len(opsort))\n",
    "ee = np.zeros(len(opsort))\n",
    "for i in range(len(opsort)):\n",
    "    dd[i] = np.average(opsort[i]['productivity'])\n",
    "    ee[i] = np.sum(opsort[i]['EUR'])\n",
    "dftoav['Total EUR'] = ee\n",
    "dftoav['Productivity Average'] = dd\n",
    "dftoav['Company'] = y"
   ]
  },
  {
   "cell_type": "markdown",
   "metadata": {},
   "source": [
    "## Final Results of EUR/Productivity per Company\n",
    "The results indicate that Enerplus Resources, Abraxas, and Marathon will drill the best wells going forward. It is relevent to note that Abraxas has had the highest GOR in this group of companies since 2010."
   ]
  },
  {
   "cell_type": "code",
   "execution_count": 26,
   "metadata": {},
   "outputs": [
    {
     "data": {
      "text/html": [
       "<div>\n",
       "<style scoped>\n",
       "    .dataframe tbody tr th:only-of-type {\n",
       "        vertical-align: middle;\n",
       "    }\n",
       "\n",
       "    .dataframe tbody tr th {\n",
       "        vertical-align: top;\n",
       "    }\n",
       "\n",
       "    .dataframe thead th {\n",
       "        text-align: right;\n",
       "    }\n",
       "</style>\n",
       "<table border=\"1\" class=\"dataframe\">\n",
       "  <thead>\n",
       "    <tr style=\"text-align: right;\">\n",
       "      <th></th>\n",
       "      <th>Total EUR</th>\n",
       "      <th>Productivity Average</th>\n",
       "      <th>Company</th>\n",
       "    </tr>\n",
       "  </thead>\n",
       "  <tbody>\n",
       "    <tr>\n",
       "      <th>6</th>\n",
       "      <td>3.572680e+05</td>\n",
       "      <td>18.212293</td>\n",
       "      <td>MUREX PETROLEUM CORPORATION</td>\n",
       "    </tr>\n",
       "    <tr>\n",
       "      <th>7</th>\n",
       "      <td>3.859426e+05</td>\n",
       "      <td>13.007591</td>\n",
       "      <td>CRESCENT POINT ENERGY US CORP</td>\n",
       "    </tr>\n",
       "    <tr>\n",
       "      <th>8</th>\n",
       "      <td>7.898269e+05</td>\n",
       "      <td>15.755028</td>\n",
       "      <td>KRAKEN OPERATING LLC</td>\n",
       "    </tr>\n",
       "    <tr>\n",
       "      <th>0</th>\n",
       "      <td>8.590950e+05</td>\n",
       "      <td>24.772991</td>\n",
       "      <td>SLAWSON EXPLORATION COMPANY INC</td>\n",
       "    </tr>\n",
       "    <tr>\n",
       "      <th>2</th>\n",
       "      <td>9.094196e+05</td>\n",
       "      <td>28.841832</td>\n",
       "      <td>WPX ENERGY WILLISTON LLC</td>\n",
       "    </tr>\n",
       "    <tr>\n",
       "      <th>4</th>\n",
       "      <td>1.514696e+06</td>\n",
       "      <td>29.063098</td>\n",
       "      <td>MARATHON OIL COMPANY</td>\n",
       "    </tr>\n",
       "    <tr>\n",
       "      <th>5</th>\n",
       "      <td>2.083194e+06</td>\n",
       "      <td>29.875435</td>\n",
       "      <td>ABRAXAS PETROLEUM CORP</td>\n",
       "    </tr>\n",
       "    <tr>\n",
       "      <th>9</th>\n",
       "      <td>2.442383e+06</td>\n",
       "      <td>14.193809</td>\n",
       "      <td>LIBERTY RESOURCES MANAGEMENT COMPANY LLC</td>\n",
       "    </tr>\n",
       "    <tr>\n",
       "      <th>1</th>\n",
       "      <td>2.816101e+06</td>\n",
       "      <td>20.128634</td>\n",
       "      <td>PETRO-HUNT DAKOTA LLC</td>\n",
       "    </tr>\n",
       "    <tr>\n",
       "      <th>3</th>\n",
       "      <td>3.999390e+06</td>\n",
       "      <td>50.073945</td>\n",
       "      <td>ENERPLUS RESOURCES USA CORPORATION</td>\n",
       "    </tr>\n",
       "  </tbody>\n",
       "</table>\n",
       "</div>"
      ],
      "text/plain": [
       "      Total EUR  Productivity Average  \\\n",
       "6  3.572680e+05             18.212293   \n",
       "7  3.859426e+05             13.007591   \n",
       "8  7.898269e+05             15.755028   \n",
       "0  8.590950e+05             24.772991   \n",
       "2  9.094196e+05             28.841832   \n",
       "4  1.514696e+06             29.063098   \n",
       "5  2.083194e+06             29.875435   \n",
       "9  2.442383e+06             14.193809   \n",
       "1  2.816101e+06             20.128634   \n",
       "3  3.999390e+06             50.073945   \n",
       "\n",
       "                                    Company  \n",
       "6               MUREX PETROLEUM CORPORATION  \n",
       "7             CRESCENT POINT ENERGY US CORP  \n",
       "8                      KRAKEN OPERATING LLC  \n",
       "0           SLAWSON EXPLORATION COMPANY INC  \n",
       "2                  WPX ENERGY WILLISTON LLC  \n",
       "4                      MARATHON OIL COMPANY  \n",
       "5                    ABRAXAS PETROLEUM CORP  \n",
       "9  LIBERTY RESOURCES MANAGEMENT COMPANY LLC  \n",
       "1                     PETRO-HUNT DAKOTA LLC  \n",
       "3        ENERPLUS RESOURCES USA CORPORATION  "
      ]
     },
     "execution_count": 26,
     "metadata": {},
     "output_type": "execute_result"
    }
   ],
   "source": [
    "dftoav.sort_values(by=['Total EUR'])"
   ]
  },
  {
   "cell_type": "code",
   "execution_count": 28,
   "metadata": {},
   "outputs": [
    {
     "data": {
      "text/html": [
       "<div>\n",
       "<style scoped>\n",
       "    .dataframe tbody tr th:only-of-type {\n",
       "        vertical-align: middle;\n",
       "    }\n",
       "\n",
       "    .dataframe tbody tr th {\n",
       "        vertical-align: top;\n",
       "    }\n",
       "\n",
       "    .dataframe thead th {\n",
       "        text-align: right;\n",
       "    }\n",
       "</style>\n",
       "<table border=\"1\" class=\"dataframe\">\n",
       "  <thead>\n",
       "    <tr style=\"text-align: right;\">\n",
       "      <th></th>\n",
       "      <th>Total EUR</th>\n",
       "      <th>Productivity Average</th>\n",
       "      <th>Company</th>\n",
       "    </tr>\n",
       "  </thead>\n",
       "  <tbody>\n",
       "    <tr>\n",
       "      <th>7</th>\n",
       "      <td>3.859426e+05</td>\n",
       "      <td>13.007591</td>\n",
       "      <td>CRESCENT POINT ENERGY US CORP</td>\n",
       "    </tr>\n",
       "    <tr>\n",
       "      <th>9</th>\n",
       "      <td>2.442383e+06</td>\n",
       "      <td>14.193809</td>\n",
       "      <td>LIBERTY RESOURCES MANAGEMENT COMPANY LLC</td>\n",
       "    </tr>\n",
       "    <tr>\n",
       "      <th>8</th>\n",
       "      <td>7.898269e+05</td>\n",
       "      <td>15.755028</td>\n",
       "      <td>KRAKEN OPERATING LLC</td>\n",
       "    </tr>\n",
       "    <tr>\n",
       "      <th>6</th>\n",
       "      <td>3.572680e+05</td>\n",
       "      <td>18.212293</td>\n",
       "      <td>MUREX PETROLEUM CORPORATION</td>\n",
       "    </tr>\n",
       "    <tr>\n",
       "      <th>1</th>\n",
       "      <td>2.816101e+06</td>\n",
       "      <td>20.128634</td>\n",
       "      <td>PETRO-HUNT DAKOTA LLC</td>\n",
       "    </tr>\n",
       "    <tr>\n",
       "      <th>0</th>\n",
       "      <td>8.590950e+05</td>\n",
       "      <td>24.772991</td>\n",
       "      <td>SLAWSON EXPLORATION COMPANY INC</td>\n",
       "    </tr>\n",
       "    <tr>\n",
       "      <th>2</th>\n",
       "      <td>9.094196e+05</td>\n",
       "      <td>28.841832</td>\n",
       "      <td>WPX ENERGY WILLISTON LLC</td>\n",
       "    </tr>\n",
       "    <tr>\n",
       "      <th>4</th>\n",
       "      <td>1.514696e+06</td>\n",
       "      <td>29.063098</td>\n",
       "      <td>MARATHON OIL COMPANY</td>\n",
       "    </tr>\n",
       "    <tr>\n",
       "      <th>5</th>\n",
       "      <td>2.083194e+06</td>\n",
       "      <td>29.875435</td>\n",
       "      <td>ABRAXAS PETROLEUM CORP</td>\n",
       "    </tr>\n",
       "    <tr>\n",
       "      <th>3</th>\n",
       "      <td>3.999390e+06</td>\n",
       "      <td>50.073945</td>\n",
       "      <td>ENERPLUS RESOURCES USA CORPORATION</td>\n",
       "    </tr>\n",
       "  </tbody>\n",
       "</table>\n",
       "</div>"
      ],
      "text/plain": [
       "      Total EUR  Productivity Average  \\\n",
       "7  3.859426e+05             13.007591   \n",
       "9  2.442383e+06             14.193809   \n",
       "8  7.898269e+05             15.755028   \n",
       "6  3.572680e+05             18.212293   \n",
       "1  2.816101e+06             20.128634   \n",
       "0  8.590950e+05             24.772991   \n",
       "2  9.094196e+05             28.841832   \n",
       "4  1.514696e+06             29.063098   \n",
       "5  2.083194e+06             29.875435   \n",
       "3  3.999390e+06             50.073945   \n",
       "\n",
       "                                    Company  \n",
       "7             CRESCENT POINT ENERGY US CORP  \n",
       "9  LIBERTY RESOURCES MANAGEMENT COMPANY LLC  \n",
       "8                      KRAKEN OPERATING LLC  \n",
       "6               MUREX PETROLEUM CORPORATION  \n",
       "1                     PETRO-HUNT DAKOTA LLC  \n",
       "0           SLAWSON EXPLORATION COMPANY INC  \n",
       "2                  WPX ENERGY WILLISTON LLC  \n",
       "4                      MARATHON OIL COMPANY  \n",
       "5                    ABRAXAS PETROLEUM CORP  \n",
       "3        ENERPLUS RESOURCES USA CORPORATION  "
      ]
     },
     "execution_count": 28,
     "metadata": {},
     "output_type": "execute_result"
    }
   ],
   "source": [
    "dftoav.sort_values(by=['Productivity Average'])"
   ]
  }
 ],
 "metadata": {
  "kernelspec": {
   "display_name": "Python 3",
   "language": "python",
   "name": "python3"
  },
  "language_info": {
   "codemirror_mode": {
    "name": "ipython",
    "version": 3
   },
   "file_extension": ".py",
   "mimetype": "text/x-python",
   "name": "python",
   "nbconvert_exporter": "python",
   "pygments_lexer": "ipython3",
   "version": "3.7.1"
  }
 },
 "nbformat": 4,
 "nbformat_minor": 2
}
